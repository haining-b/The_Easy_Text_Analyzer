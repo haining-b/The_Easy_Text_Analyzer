{
  "nbformat": 4,
  "nbformat_minor": 0,
  "metadata": {
    "kernelspec": {
      "display_name": "Python 3",
      "language": "python",
      "name": "python3"
    },
    "language_info": {
      "codemirror_mode": {
        "name": "ipython",
        "version": 3
      },
      "file_extension": ".py",
      "mimetype": "text/x-python",
      "name": "python",
      "nbconvert_exporter": "python",
      "pygments_lexer": "ipython3",
      "version": "3.7.4"
    },
    "colab": {
      "name": "The_Easy_Text_Analyzer.ipynb",
      "provenance": [],
      "collapsed_sections": [],
      "toc_visible": true,
      "include_colab_link": true
    }
  },
  "cells": [
    {
      "cell_type": "markdown",
      "metadata": {
        "id": "view-in-github",
        "colab_type": "text"
      },
      "source": [
        "<a href=\"https://colab.research.google.com/github/haining-b/The_Easy_Text_Analyzer/blob/master/The_Easy_Text_Analyzer.ipynb\" target=\"_parent\"><img src=\"https://colab.research.google.com/assets/colab-badge.svg\" alt=\"Open In Colab\"/></a>"
      ]
    },
    {
      "cell_type": "markdown",
      "metadata": {
        "id": "meKUhdwoMm6J",
        "colab_type": "text"
      },
      "source": [
        "#Introduction to The Easy Text Analyser\n",
        "**Welcome to The Easy Text Analyser: Here for all your \n",
        "thematic analysis needs.**\n",
        "\n",
        "\n",
        "---\n",
        "\n",
        "\n",
        "\n",
        " This document will walk you through the analysis of \n",
        " your text of interest, and will hopefully make\n",
        " the process of editing slightly more bearable. \n",
        "\n",
        "\n",
        " As you read, please pay attention to any text that \n",
        " looks like \n",
        "\n",
        "         # this: \n",
        "\n",
        "\n",
        "\n",
        " that's a *comment* and it's here \n",
        " to make this whole thing comprehensible\n",
        " and EASY\n",
        " even if you've never touched code before in your life. \n",
        "\n",
        "\n",
        " If you see:\n",
        "\n",
        "\n",
        "        ##################################################\n",
        "        ########### YOUR INPUT REQUIRED HERE #############\n",
        "        ##################################################\n",
        "\n",
        "\n",
        " you absolutely MUST change the lines of code that \n",
        " follow. Those lines are the ones doing a lot of \n",
        " the work, and they depend upon your specific text.\n",
        "\n",
        "\n",
        "  I'll refer to each of these little boxes as a cell.\n",
        " To run a cell (on a Mac, anyways), press option + enter.\n",
        " You'll need to run most of the cells.\n",
        "\n",
        "\n",
        "Optional cells are labeled and hidden for simplicity's\n",
        " sake. Some of the function cells are also hidden - \n",
        " that's so you don't accidently change anything.\n",
        "Cells labeled 'Touchy' need you to change their contents. Cells labeled 'No Touchy' should be left alone, but do run them. If you want to see the inside of a hidden cell, \n",
        " double click on the title. \n",
        "\n",
        "\n",
        " Happy editing!\n"
      ]
    },
    {
      "cell_type": "markdown",
      "metadata": {
        "id": "jFyelxbpf-aV",
        "colab_type": "text"
      },
      "source": [
        "# Modules and installations \n",
        "\n",
        "These are just some tools we're going to use later. Run the following cell as described above (option + enter), but no touchy! "
      ]
    },
    {
      "cell_type": "code",
      "metadata": {
        "id": "5YNSYWIs6xuz",
        "colab_type": "code",
        "cellView": "form",
        "colab": {
          "base_uri": "https://localhost:8080/",
          "height": 136
        },
        "outputId": "c8f940ea-2502-4618-b7eb-9b729e583260"
      },
      "source": [
        "#@title Modules and installations  (No Touchy) { form-width: \"200px\" }\n",
        "\n",
        "%pip install pdfkit\n",
        "\n",
        "\n",
        "\n",
        "%matplotlib inline\n",
        "import pandas as pd\n",
        "import seaborn as sns\n",
        "import numpy as np\n",
        "import matplotlib.pyplot as plt\n",
        "\n",
        "import nltk\n",
        "nltk.download('stopwords')\n",
        "nltk.download('punkt')\n",
        "nltk.download('wordnet')\n",
        "from nltk import Text,WordNetLemmatizer, sent_tokenize, word_tokenize\n",
        "\n",
        "import csv\n",
        "\n",
        "from string import punctuation\n",
        "from collections import Counter\n",
        "\n",
        "from itertools import chain\n",
        "import string\n",
        "import pdfkit\n",
        "import re"
      ],
      "execution_count": 19,
      "outputs": [
        {
          "output_type": "stream",
          "text": [
            "Requirement already satisfied: pdfkit in /usr/local/lib/python3.6/dist-packages (0.6.1)\n",
            "[nltk_data] Downloading package stopwords to /root/nltk_data...\n",
            "[nltk_data]   Package stopwords is already up-to-date!\n",
            "[nltk_data] Downloading package punkt to /root/nltk_data...\n",
            "[nltk_data]   Package punkt is already up-to-date!\n",
            "[nltk_data] Downloading package wordnet to /root/nltk_data...\n",
            "[nltk_data]   Package wordnet is already up-to-date!\n"
          ],
          "name": "stdout"
        }
      ]
    },
    {
      "cell_type": "markdown",
      "metadata": {
        "id": "X9HiuTprNhuS",
        "colab_type": "text"
      },
      "source": [
        "# Stop Words\n",
        "\n",
        "'Stop words' are words that aren't interesting for analysis purposes. I don't care how often I said 'and' or 'says', for example. The following cell loads a list of English stop words. You can change the list in the cells following that (e.g. to add elements of a conlang).\n",
        "\n",
        "\n",
        "The list of English stop words is as follows:\n",
        "\n",
        "who, he, she, a, can, shan, doesn, ll, few, won, couldn, here, because, off, against, during, its, myself, him, was, d, didn, hasnt, their, thatll, only, just, me, weren, have, youve, such, ours, her, aren, doing, or, re, down, shant, hasn, below, up, above, neednt, hers, mightn, will, wont, those, while, himself, wouldn, has, they, did, at, after, y, more, werent, if, any, each, o, be, to, we, ve, all, t, isnt, mustn, hadn, were, further, its, over, didnt, dont, wouldnt, is, same, it, whom, both, m, but, needn, these, should, in, doesnt, been, shouldn, i, does, yourselves, there, wasnt, had, other, own, do, haven, this, couldnt, wasn, don, as, youre, no, shouldve, about, now, having, an, too, with, where, youll, herself, what, from, isn, before, between, ourselves, on, for, when, being, out, through, nor, yourself, itself, so, ain, mustnt, you, my, some, arent, youd, our, the, into, under, and, by, yours, shouldnt, ma, again, how, not, his, themselves, why, them, am, are, than, until, then, mightnt, havent, of, your, theirs, very, s, most, shes, once, hadnt, that, which\n",
        "\n",
        "The words are truncated (like, 'ain' instead of \"ain't\") due to the method of analysis that we use later on.\n",
        "\n",
        "I can easily imagine a situation in which you might want to analyse use of words like \"should\" or \"ain't\" (When and where is my character prescriptive? Did my southern character suddenly lose their accent in chapter 16?). To handle these exceptions, the cell below titled \"Optional Stopword Deleter\" will allow you to remove words from this list, and thereby analyze your text based on those words.\n",
        "\n",
        "The Expander cell does the reverse - If you use the neo pronoun \"ze\", for example, you might not want to know every time that it occurs in your text. This cell will probably be less useful to you, because stop words are more of a problem when you are analyzing a huge body of text - for our purposes, it probably won't take that much more computational power to just include them. "
      ]
    },
    {
      "cell_type": "code",
      "metadata": {
        "id": "Xvm9G6_Q6hOX",
        "colab_type": "code",
        "cellView": "form",
        "colab": {}
      },
      "source": [
        "#@title Loading stop words (No Touchy) { form-width: \"200px\" }\n",
        "\n",
        "\n",
        "from nltk.corpus import stopwords\n",
        "stop_words = set(stopwords.words(\"english\"))\n",
        "inclusive_stop_words = [i for i in stop_words]"
      ],
      "execution_count": 14,
      "outputs": []
    },
    {
      "cell_type": "code",
      "metadata": {
        "id": "3meaH-Q26hOZ",
        "colab_type": "code",
        "cellView": "form",
        "colab": {}
      },
      "source": [
        "#@title Stop Word Deleter (OPTIONAL) { form-width: \"200px\" }\n",
        "\n",
        "####### OPTIONAL CELL #######\n",
        "# I am interested in the genderedness of my text, so I'm keeping gendered pronouns.\n",
        "# You can do this with any stop word; just insert the one you would like to keep into the\n",
        "# list 'words_to_keep'.\n",
        "# E.g. words_to_keep = ('it',\"it\\'s\",'is')\n",
        "# Note: the backslash in it\\'s is so that the computer treats the apostrophe as a character \n",
        "# and not a code thing. You MUST include the backslash when handling apostrophes or \n",
        "# you'll confuse the computer.\n",
        "# If something goes wrong here, that is probably the issue.\n",
        "\n",
        "words_to_keep = ('he','her','she','hers','herself', 'him', 'himself', 'his',\"she\\'s\")\n",
        "\n",
        "inclusive_stop_words = [i for i in inclusive_stop_words if not i in words_to_keep]\n"
      ],
      "execution_count": 15,
      "outputs": []
    },
    {
      "cell_type": "code",
      "metadata": {
        "id": "vzkp98hWOqhJ",
        "colab_type": "code",
        "cellView": "form",
        "colab": {}
      },
      "source": [
        "#@title Stop Word Expander (OPTIONAL) { form-width: \"200px\" }\n",
        "# To ADD a stop word, simply run the following code (with the appropriate word \n",
        "# included (i.e. not 'haining')).\n",
        "\n",
        "inclusive_stop_words.append('haining')\n"
      ],
      "execution_count": null,
      "outputs": []
    },
    {
      "cell_type": "markdown",
      "metadata": {
        "id": "JuigwXFZX6fQ",
        "colab_type": "text"
      },
      "source": [
        "# Punctuation\n",
        "\n",
        "Punctuation can cause a lot of trouble in text analysis. That's because the addition of a single punctuation mark that abuts a word can change what the computer sees as a \"word\". In this case, that would make word and \"word\" different words, which is clearly not accurate. Hence, this punctuation removal function."
      ]
    },
    {
      "cell_type": "code",
      "metadata": {
        "id": "pTIhWecs6hOb",
        "colab_type": "code",
        "cellView": "form",
        "colab": {}
      },
      "source": [
        "#@title Punctuation removal function (No Touchy) { form-width: \"200px\" }\n",
        "# This function removes all punctuation from your text. \n",
        "# Originally found here: https://github.com/davidmcclure/textplot/blob/master/textplot/text.py\n",
        "# I do occasionally find that some weird punctuation has made its way into my text,\n",
        "# so if you are seeing an object escape consistently, copy and paste it into the long string\n",
        "# of nonsense below (what's actually happening is that you're replacing the punctuation, \n",
        "# like '.', with nothing, like ''. The marks '' just indicate what kind of thing you're \n",
        "# working with - here, it means text (as opposed to numbers, for example)).\n",
        "\n",
        "def remove_punctuation(text):\n",
        "    \"\"\"\n",
        "    Removes all punctuation and conotation from the string and returns a 'plain' string\n",
        "    \"\"\"\n",
        "    punctuation2 = '-&—®©™€â´‚+³©¥ã¼•ž®è±äüöž!@#Â“§$%^*()î_+€$=¿{”}[]:«;\"»\\â¢|<>,.?/~`0123456789’'\n",
        "    for sign in punctuation2:\n",
        "        text = text.replace(sign, \"\")\n",
        "    return text\n",
        "\n"
      ],
      "execution_count": 131,
      "outputs": []
    },
    {
      "cell_type": "markdown",
      "metadata": {
        "id": "Z9T4iyCHQTa4",
        "colab_type": "text"
      },
      "source": [
        "# Your file\n",
        "\n",
        "For starters, we'll be working with Jane Austen's Pride and Prejudice. The .txt file for P&P is on my github at https://github.com/haining-b/The_Easy_Text_Analyzer/blob/6ddbb85c6b6eff15b5941241408bca3f4c6f2882/pride_and_prejudice.txt. You can also download it at Project Gutenberg: https://www.gutenberg.org/files/1342/1342-0.txt. You will eventually need to edit these cells to reflect your text of interest. "
      ]
    },
    {
      "cell_type": "code",
      "metadata": {
        "id": "mbfNsNDi-qYD",
        "colab_type": "code",
        "cellView": "form",
        "colab": {
          "resources": {
            "http://localhost:8080/nbextensions/google.colab/files.js": {
              "data": "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",
              "ok": true,
              "headers": [
                [
                  "content-type",
                  "application/javascript"
                ]
              ],
              "status": 200,
              "status_text": ""
            }
          },
          "base_uri": "https://localhost:8080/",
          "height": 72
        },
        "outputId": "a562227e-069d-427f-9b66-d75dc525d6e8"
      },
      "source": [
        "#@title Upload your file (Touchy) { form-width: \"200px\" }\n",
        "\n",
        "# Here is where you will choose the file to upload.\n",
        "# File should be a plaintext .txt file\n",
        "\n",
        "##################################################\n",
        "############ YOUR INPUT REQUIRED HERE ############\n",
        "##################################################\n",
        "from google.colab import files\n",
        "uploaded = files.upload()"
      ],
      "execution_count": 6,
      "outputs": [
        {
          "output_type": "display_data",
          "data": {
            "text/html": [
              "\n",
              "     <input type=\"file\" id=\"files-b5c8fd11-a6ed-4a5d-8e0f-1ebe85796a11\" name=\"files[]\" multiple disabled\n",
              "        style=\"border:none\" />\n",
              "     <output id=\"result-b5c8fd11-a6ed-4a5d-8e0f-1ebe85796a11\">\n",
              "      Upload widget is only available when the cell has been executed in the\n",
              "      current browser session. Please rerun this cell to enable.\n",
              "      </output>\n",
              "      <script src=\"/nbextensions/google.colab/files.js\"></script> "
            ],
            "text/plain": [
              "<IPython.core.display.HTML object>"
            ]
          },
          "metadata": {
            "tags": []
          }
        },
        {
          "output_type": "stream",
          "text": [
            "Saving pride_and_prejudice.txt to pride_and_prejudice.txt\n"
          ],
          "name": "stdout"
        }
      ]
    },
    {
      "cell_type": "code",
      "metadata": {
        "id": "UfO0plLy6hOd",
        "colab_type": "code",
        "colab": {},
        "cellView": "form"
      },
      "source": [
        "#@title Slight modifications to your file (Touchy) { form-width: \"200px\" }\n",
        "\n",
        "# Get the full text of your file without punctuation\n",
        "# Replace 'pride_and_prejudice.txt' with the name of the file you uploaded above.\n",
        "\n",
        "##################################################\n",
        "############ YOUR INPUT REQUIRED HERE ############\n",
        "##################################################\n",
        "\n",
        "with open('pride_and_prejudice.txt', 'r', errors='replace') as f:\n",
        "            words_subbed = f.read()\n"
      ],
      "execution_count": 132,
      "outputs": []
    },
    {
      "cell_type": "markdown",
      "metadata": {
        "id": "ZvHD_-bWW1zP",
        "colab_type": "text"
      },
      "source": [
        "#Dealing with multiple definitions (OPTIONAL)\n",
        "In the book I've written, I have a character whose name is Will. Because that name is also a noun and a modal verb, I need to take all the times that 'Will' occurs in the text and turn it into something else, like the made-up word 'bobo'. This change is important, as capitalization is ignored by later processing steps. That's just so we don't go around acting like 'Almost' and 'almost' are 2 different words. The following little cell is just a glorified find and replace function (like in Microsoft Word).\n",
        "\n",
        "For the purposes of illustration, I will be replacing the word 'Mrs. Bennet' with 'lala', since later steps will  \n",
        "separate 'Mrs' from 'Bennet'."
      ]
    },
    {
      "cell_type": "code",
      "metadata": {
        "id": "fs19nb8M6hOg",
        "colab_type": "code",
        "cellView": "form",
        "colab": {}
      },
      "source": [
        "#@title Multiple Definition Tool (OPTIONAL) { form-width: \"200px\" }\n",
        "\n",
        "####### OPTIONAL CELL #######\n",
        "\n",
        "# If you have a similar issue (a character named Hope, perhaps), just replace \"Mrs. Bennet\" \n",
        "# with \"Hope\", and all instances of \"Hope\" will become 'bobo'.\n",
        "\n",
        "# If you want to do this multiple times, delete the '#' before the second line of code, \n",
        "# then substitute the appropriate terms. If you need EVEN MORE, then copy and paste \n",
        "# that SECOND line of code below the rest and do the replacement again. \n",
        "# If you use the first, you'll only replace one of the words you care about.\n",
        "\n",
        "##################################################\n",
        "############ YOUR INPUT REQUIRED HERE ############\n",
        "##################################################\n",
        "\n",
        "words_subbed = re.sub('Mrs Bennet','lala', words_subbed)\n",
        "\n",
        "# words_subbed = re.sub('Hope','kikii', words_subbed)"
      ],
      "execution_count": 134,
      "outputs": []
    },
    {
      "cell_type": "markdown",
      "metadata": {
        "id": "poQWg_Iy0x0b",
        "colab_type": "text"
      },
      "source": [
        "# Tokenizing\n",
        "\n",
        "Tokenizing test is a method of splitting any string of characters in a way that a native speaker of that language might do. For example, the computer does not know what a sentence or a word is. In order to treat your document appropriately, we need to teach the computer what we consider important units of information. Hence, tokenization.\n",
        "\n",
        "For the most part, useful tokens include words. But you can imagine a situation in which multiple words are actually the unit on which we would like to perform analyses. Some examples include the White House, Pride and Prejudice, and Mr. Bingley. A default way of delineating tokens is to split based on spaces, but you can see that that would split the examples that I just mentioned into at least two different items. In the case of Mr. Bingley, this is quite problematic, as there are multiple Bingleys and many men in the novel Pride and Prejudice, and so you could not just search either \"Mr.\" or \"Bingley\".\n",
        "\n",
        "Multi Word Tokenizing is not dissimilar to what we did in the Multiple Definitions section. Indeed, you could also replace \"Mr. Bingley\" with a nonsense word.  However, the Multiple Definitions Tool will also handle identical spellings that are differentiated by case. *This* tool exclusively handles epithets. If I were using The Odyssey as an example, I would use the phrase 'rosy-fingered Dawn' to show off the use of Multi Word tokenizing, but unfortunately that type of repetition isn't really Jane Austen's style.\n",
        "\n",
        "\n",
        "In the cell titled \"Multi Word Tokens\", we will make a list of the multiword tokens that we care about. In the cell titled \"Tokenizer\", we make a list of **all** of the tokenized words. "
      ]
    },
    {
      "cell_type": "code",
      "metadata": {
        "id": "gdUfCehq0zQT",
        "colab_type": "code",
        "colab": {},
        "cellView": "form"
      },
      "source": [
        "#@title Multi Word Tokens (OPTIONAL) { form-width: \"200px\" }\n",
        "\n",
        "\n",
        "# Note: we have already replaced all instances of Mrs. Bennet with 'lala', so the\n",
        "# inclusion of her name is more for illustrative purposes than anything else.\n",
        "\n",
        "##################################################\n",
        "########### YOUR INPUT REQUIRED HERE #############\n",
        "##################################################\n",
        "epithets = [('Mrs.','Bennet'), ('Mr.','Bingley')]\n",
        "epithets = [(x.lower(), y.lower()) for x,y in epithets]\n",
        "epithets = [(remove_punctuation(x), remove_punctuation(y)) for x,y in epithets]\n",
        "\n",
        "# epi_list lets us see the epithets we've made in a way that's easy \n",
        "# to copy and paste.\n",
        "epi_list = [''.join(tups) for tups in epithets] "
      ],
      "execution_count": 135,
      "outputs": []
    },
    {
      "cell_type": "code",
      "metadata": {
        "id": "CsipjfOWTbRL",
        "colab_type": "code",
        "colab": {
          "base_uri": "https://localhost:8080/",
          "height": 34
        },
        "cellView": "form",
        "outputId": "200c8f11-dd89-41fc-c1a3-823793fe487b"
      },
      "source": [
        "#@title Looking at lists (OPTIONAL) { form-width: \"200px\" }\n",
        "\n",
        "\n",
        "# Sometimes, it is useful to visualize the contents of a list. \n",
        "# For example, in the last cell I produced a list called epi_list. \n",
        "# This list is designed to allow you to view the multi word tokens \n",
        "# that you have added to your document. To look at any list,\n",
        "# you can use the code below, edited to contain the name of the list. \n",
        "# Run this Cell to see what a list looks like. They have square brackets\n",
        "# and the elements of the list are separated by a comma.\n",
        "\n",
        "print(epi_list)"
      ],
      "execution_count": 145,
      "outputs": [
        {
          "output_type": "stream",
          "text": [
            "['mrsbennet', 'mrbingley']\n"
          ],
          "name": "stdout"
        }
      ]
    },
    {
      "cell_type": "code",
      "metadata": {
        "id": "8sRfbJ8D3LTO",
        "colab_type": "code",
        "colab": {},
        "cellView": "form"
      },
      "source": [
        "#@title Tokenizer (No Touchy){ form-width: \"200px\" }\n",
        "\n",
        "sent_tokenized = sent_tokenize(str(words_subbed))\n",
        "\n",
        "\n",
        "# All words are made lowercase here: \n",
        "sent_tokenized = [i.lower() for i in sent_tokenized]\n",
        "\n",
        "# Removing that punctuation (in case we missed anything earlier)\n",
        "sent_tokenized = [remove_punctuation(i) for i in sent_tokenized]\n",
        "\n",
        "\n",
        "# Ran if the user has specified epithets. \n",
        "if 'epithets' in globals():\n",
        "\n",
        "  # Instantiating the tokenizer with our epithets\n",
        "  MWEtokenizer_i = nltk.MWETokenizer(epithets, separator='')\n",
        "  \n",
        "  # Tokenizing the document\n",
        "  with_multi_str=[MWEtokenizer_i.tokenize(word_tokenize(sent)) for sent in sent_tokenized]\n",
        "  fully_tokenized = []\n",
        "  for int_list in with_multi_str:\n",
        "    for word in int_list:\n",
        "      fully_tokenized.append(word)\n",
        "\n",
        "# Removing stop words\n",
        "  full_tokenization = [i for i in fully_tokenized if not i in inclusive_stop_words]\n",
        "\n",
        "else:\n",
        "  only_words = [word_tokenize(sent) for sent in sent_tokenized]\n",
        "  fully_tokenized = []\n",
        "  for int_list in only_words:\n",
        "    for word in int_list:\n",
        "      fully_tokenized.append(word)\n",
        "  full_tokenization = [i for i in fully_tokenized if not i in inclusive_stop_words]\n",
        "\n"
      ],
      "execution_count": 139,
      "outputs": []
    },
    {
      "cell_type": "markdown",
      "metadata": {
        "id": "WoF-IPqBX91Z",
        "colab_type": "text"
      },
      "source": [
        "#Lemmatization\n",
        "\n",
        "In this kind of analysis, we often talk about the 'stem' of a word. For many words, this is obvious - the stem of dogs is dog, of organizing is organiz, etc. Some words cannot be stemmed so easily - for example, the word 'best' is the superlative of good. Those two look 100% different. So some very smart people have developed an algorithm to *lemmatize* words. That is to say, the words are turned into their 'lemma'/ dictionary form. In the case of 'best', that is 'good'.\n",
        "\n",
        " We do this so that we capture appropriate units in our analysis - good and best mean pretty much the same thing, even if they are different in degree. \n",
        "\n",
        "Many words have multiple definitions, depending on their form. For example, sometime can mean 'at some point' or 'former'; sometime**s** means 'on more than one occasion'. Lemmatization does not therefore *neccesarily* collapse all instances of a given lemma into one. \n",
        "\n",
        "The following cell takes your big list of words and lemmatizes it. \n",
        "\n",
        "NOTE: This will probably not capture all lemmatizable words in scifi novels - if you made it up, it will likely throw a bit of a wrench into the analysis. That just means that words like 'bobo' and 'boboizes' are likely going to be categorized separately.\n",
        "\n"
      ]
    },
    {
      "cell_type": "code",
      "metadata": {
        "id": "RaETDqGq6hOm",
        "colab_type": "code",
        "cellView": "form",
        "colab": {}
      },
      "source": [
        "#@title Lemmatizer (No Touchy) { form-width: \"200px\" }\n",
        "\n",
        "lemmatizer = WordNetLemmatizer()\n",
        "words_lemmatized =[]\n",
        "full_tokenization2 = full_tokenization[4000:4500]\n",
        "\n",
        "# Lemmatizing the list\n",
        "for word in full_tokenization2:\n",
        "  words_lemmatized.append(lemmatizer.lemmatize(word))\n",
        "\n",
        "\n",
        "words_lemmatized=[]\n",
        "\n",
        "# Getting rid of words that are just \"\" as a result of removing punctuation.\n",
        "for striing in words_l:\n",
        "  if (striing != \"\"):\n",
        "    words_lemmatized.append(striing)\n",
        "\n",
        "        \n",
        "words_lemmatized = np.asarray(words_lemmatized)\n"
      ],
      "execution_count": 141,
      "outputs": []
    },
    {
      "cell_type": "markdown",
      "metadata": {
        "id": "1Rq7G3t0Yn-j",
        "colab_type": "text"
      },
      "source": [
        "#Mapping the text\n",
        "\n",
        "To plot word frequency over narrative time, we need to find all the points at which you've used a particular word. The following cell makes a list of all the unique words in your lemmatized document and then finds all the places they were used in the text. "
      ]
    },
    {
      "cell_type": "code",
      "metadata": {
        "id": "mi4ZEGhu6hOo",
        "colab_type": "code",
        "cellView": "form",
        "colab": {}
      },
      "source": [
        "#@title Making the instance dictionary (No Touchy) { form-width: \"200px\" }\n",
        "\n",
        "# Here we are making a 'dictionary'. \n",
        "# This will take longer depending on the size of your text doc and the breadth of \n",
        "# the used vocabulary.\n",
        "\n",
        "# The point: we're going to keep track of every time those words appeared in the text.\n",
        "# So we can type the word 'kid' into location_dictionary.get('kid') and see a complete list of kid \n",
        "# occurences. The values are 'position from the start'. \n",
        "# So in this sentence, the word 'the' has values of 5 and 7.\n",
        "\n",
        "word_set = list(set(words_lemmatized))\n",
        "\n",
        "location_dictionary = {}\n",
        "for i in range(0,len(word_set)):\n",
        "    key = word_set[i]\n",
        "    indices = np.flatnonzero(words_lemmatized == key)\n",
        "    location_dictionary.update( {key : indices} )\n",
        "   "
      ],
      "execution_count": 143,
      "outputs": []
    },
    {
      "cell_type": "markdown",
      "metadata": {
        "id": "7DyIEWDWZJci",
        "colab_type": "text"
      },
      "source": [
        "#Concept Compilation\n",
        " Okay, this one is SO USEFUL and actually what motivated me to do this in the first place. If you have a theme that can be represented by more than one word, what to do???? You could use this code to plot all of the terms at once, but that'll get clunky, fast. \n",
        " \n",
        " So I give you the concept_compiler.\n",
        " \n",
        " \n",
        " This function takes a list of all the words you want to smoosh together into a concept and makes new 'terms'.\n",
        "\n",
        " The exciting thing about this is that it helps with editing big chunks of text. I wrote a book, then deleted the first quarter.... which is where many themes are introduced. In rewriting, I need to make sure the text has the right 'rhythm' - like, do I somehow go 200 pages before introducing a theme? Does this character appear frequently enough for people to remember and care about them? Some of that is squishier, certainly (like, you would definitely remember a person who commits a horrific murder and then vanishes for the rest of the book), but a picture never hurts!\n",
        "\n",
        "In this case, I am going to combine nicknames for characters. Elizabeth is also known as Lizzy or Eliza. Mrs. Bennet is known as 'lala' (after we changed it in the multiple definitions step) and 'Mamma'. While there is certainly literary content inherent in a nickname, sometimes you just want to know when a person shows up."
      ]
    },
    {
      "cell_type": "code",
      "metadata": {
        "id": "DEOxbLGb6hOq",
        "colab_type": "code",
        "cellView": "form",
        "colab": {}
      },
      "source": [
        "#@title Concept Compiler (OPTIONAL; No Touchy) { form-width: \"200px\" }\n",
        "\n",
        "def concept_compiler(terms):\n",
        "    total_placement = []\n",
        "    for i in terms:\n",
        "        values = location_dictionary.get(i)\n",
        "        values = values.tolist()\n",
        "        total_placement.extend(values)\n",
        "    return(total_placement)\n",
        "        "
      ],
      "execution_count": 146,
      "outputs": []
    },
    {
      "cell_type": "code",
      "metadata": {
        "id": "-0ZqJJCK6hOs",
        "colab_type": "code",
        "cellView": "form",
        "colab": {}
      },
      "source": [
        "#@title  Concept Compiler Example (OPTIONAL) { form-width: \"200px\" }\n",
        "\n",
        "####### OPTIONAL CELL #######\n",
        "# Remember! Keep your words lowercase, otherwise you won't find anything.\n",
        "\n",
        "# If I wanted to do a concept like 'purple', I would delete the two lines of code \n",
        "# below and type:\n",
        "# purple = concept_compiler(['purple','violet','lavendar','lilac','plum'])\n",
        "\n",
        "##################################################\n",
        "############ YOUR INPUT REQUIRED HERE ############\n",
        "##################################################\n",
        "\n",
        "elizabeth = concept_compiler(['elizabeth','eliza','lizzy'])\n",
        "mrsbennet = concept_compiler(['mamma','lala'])\n",
        "\n",
        "# The following code is just for labeling in the graph below.\n",
        "# You'll want to change 'Elizabeth'/'Mrs. Bennet' to whatever you decided to call your concept\n",
        "# For 'purple', the code is: purple.append('purple')\n",
        "\n",
        "\n",
        "##################################################\n",
        "########### YOUR INPUT REQUIRED HERE #############\n",
        "##################################################\n",
        "elizabeth.append('Elizabeth')\n",
        "mrsbennet.append('Mrs. Bennet')\n"
      ],
      "execution_count": 26,
      "outputs": []
    },
    {
      "cell_type": "markdown",
      "metadata": {
        "id": "sgnQcY1aVe3s",
        "colab_type": "text"
      },
      "source": [
        "# Concept Storage (OPTIONAL) \n",
        "\n",
        "This cell is here for you to keep track of the contents of concepts that you have compiled. Double click to edit.\n",
        "\n",
        "mrsbennet = ['mamma','lala']\n",
        "\n",
        "elizabeth = ['elizabeth','eliza','lizzy']"
      ]
    },
    {
      "cell_type": "markdown",
      "metadata": {
        "id": "z19hRt6-d4Uf",
        "colab_type": "text"
      },
      "source": [
        "# Graphing our work\n",
        "\n",
        "We're at the end! Now is the time to graph your work! Below, I show you several ways to plot the data. \n",
        "\n",
        "In both examples, you are essentially running the line of code:\n",
        "plot_word_freq(object_of_interest, strategy ,toplot)\n",
        "\n",
        "\n",
        "object_of_interest is whatever you want to plot - a single word, a list of real words, a list of concepts.\n",
        "\n",
        "strategy is the type of thing you gave in object_of_interest. It can be 'concept' or 'word'.\n",
        "toplot is the type of plot you get out. There are a couple of options - a histogram or a line plot, or both! You can read more about them in the example cells below.\n",
        "\n",
        "\n",
        "The pictures show the output, but you can doubleclick on the titles just like earlier to access the information and code inside.\n",
        "\n",
        "When you plot any combination of terms, a .png file will be automatically saved to your computer. You can remove this capability by opening the graphing function and deleting ONLY the lines indicated.\n",
        "\n"
      ]
    },
    {
      "cell_type": "code",
      "metadata": {
        "id": "u7C0N-BU6hOv",
        "colab_type": "code",
        "cellView": "form",
        "colab": {}
      },
      "source": [
        "#@title The graphing function (No Touchy) { form-width: \"200px\" }\n",
        "\n",
        "# This bad boy makes the plots. I don't recommend messing around with it.\n",
        "\n",
        "def plot_word_freq(object_of_interest = word, strategy = 'word', toplot = 'both'):\n",
        "    \n",
        "    fig, ax = plt.subplots(figsize=(10,7))\n",
        "    b = 50\n",
        "    toplot = toplot.lower()\n",
        "\n",
        "    if toplot == 'hist':\n",
        "        ylab = \"Frequency\"\n",
        "        h = True\n",
        "        k = False\n",
        "        \n",
        "    elif toplot == 'kde' :\n",
        "        ylab = 'KDE'\n",
        "        k = True\n",
        "        h = False\n",
        "    else:\n",
        "        ylab = 'KDE'\n",
        "        h = True\n",
        "        k = True\n",
        "\n",
        "    nomen = []\n",
        "\n",
        "    if  strategy == 'concept':\n",
        "        for concept in object_of_interest:\n",
        "            nomen.append(concept[-1])\n",
        "            var_name = concept[-1]\n",
        "            conc = concept[:]\n",
        "            del conc[-1]\n",
        "            \n",
        "            \n",
        "       \n",
        "            trans_values = [(int(i)/len(words_lemmatized))*100 for i in conc]\n",
        "            \n",
        "            if int(round(len(trans_values)/2)) > 50 and b < 50:\n",
        "                b = int(round(len(trans_values)/2))\n",
        "\n",
        "            sns.distplot(trans_values, ax = ax, bins = b, label = var_name, hist = h, kde = k )\n",
        "            ax.set(xlabel = 'Narrative Space/Time', ylabel = ylab)\n",
        "            plt.legend()\n",
        "\n",
        "    if strategy == 'word':\n",
        "        if type(object_of_interest) == list:\n",
        "            for x in object_of_interest:\n",
        "                nomen.append(x)\n",
        "                values = location_dictionary.get(x)\n",
        "                values = values.tolist()\n",
        "                trans_values = [(i/len(words_lemmatized))*100 for i in values]\n",
        "                if int(round(len(values)/2)) > 50 and b < 50:\n",
        "                    b = int(round(len(values)/2))\n",
        "\n",
        "                sns.distplot(trans_values, ax = ax, bins = b, label = str(x), hist = h,kde = k )\n",
        "\n",
        "                ax.set(xlabel = 'Narrative Space/Time', ylabel = ylab)\n",
        "                plt.legend()\n",
        "        else:\n",
        "            nomen.append(object_of_interest)\n",
        "            values = location_dictionary.get(object_of_interest)\n",
        "            values = values.tolist()\n",
        "            trans_values = [(i/len(words_lemmatized))*100 for i in values]\n",
        "            if int(round(len(values)/2)) > 50 and b < 50:\n",
        "                b = int(round(len(values)/2))\n",
        "\n",
        "            sns.distplot(trans_values, ax = ax, bins = b, label = str(object_of_interest), hist = h, kde = k )\n",
        "\n",
        "            ax.set(xlabel = 'Narrative Space/Time', ylabel = ylab)\n",
        "            plt.legend()\n",
        "    ax.set_xlim(0,100)\n",
        "    for_file = '_vs_'.join(nomen)\n",
        "    for_file = for_file + '_'+ toplot\n",
        "\n",
        "    #####IF YOU DO NOT WANT TO DOWNLOAD IMAGES#####\n",
        "    #####DELETE THE NEXT TWO LINES ONLY############\n",
        "    ###############################\n",
        "    plt.savefig(for_file+\".png\")\n",
        "    files.download(for_file+\".png\") \n",
        "    ###############################\n",
        "\n",
        "    ###KEEP ALL FOLLOWING CODE###\n",
        "    plt.show()"
      ],
      "execution_count": 147,
      "outputs": []
    },
    {
      "cell_type": "code",
      "metadata": {
        "id": "LRH7cStj6hOy",
        "colab_type": "code",
        "cellView": "both",
        "colab": {
          "base_uri": "https://localhost:8080/",
          "height": 442
        },
        "outputId": "56d2fd83-bc0e-454e-9092-cc0b1a6d1d88"
      },
      "source": [
        "#@title Plotting concepts (example) { form-width: \"200px\" }\n",
        "\n",
        "# Here's the plot maker in action:\n",
        "\n",
        "# First, I make a list of the concepts I made above:\n",
        "\n",
        "##################################################\n",
        "############ YOUR INPUT REQUIRED HERE ############\n",
        "##################################################\n",
        "\n",
        "concept_list = [elizabeth, mrsbennet]\n",
        "\n",
        "# This next line does the plotting:\n",
        "\n",
        "# object_of_interest is whatever you want to plot - a single word, a list of real words,\n",
        "# a list of concepts.\n",
        "\n",
        "# Here, it's a list of concepts.\n",
        "# strategy is the type of thing you gave in object_of_interest. It can be 'concept' or 'word'.\n",
        "\n",
        "# toplot is the type of plot you get out. The default is 'both'; \n",
        "# this gives you a smoothed line plot(that might miss single occurences) \n",
        "# as well as a standard histogram - that includes all occurences.\n",
        "\n",
        "# To just look at the line, say toplot = 'kde'. For just the histogram , say toplot = 'hist'. \n",
        "\n",
        "##################################################\n",
        "############ YOUR INPUT REQUIRED HERE ############\n",
        "##################################################\n",
        "\n",
        "plot_word_freq(object_of_interest = concept_list, strategy = 'concept',toplot = 'both')\n",
        "\n"
      ],
      "execution_count": 148,
      "outputs": [
        {
          "output_type": "display_data",
          "data": {
            "application/javascript": [
              "\n",
              "    async function download(id, filename, size) {\n",
              "      if (!google.colab.kernel.accessAllowed) {\n",
              "        return;\n",
              "      }\n",
              "      const div = document.createElement('div');\n",
              "      const label = document.createElement('label');\n",
              "      label.textContent = `Downloading \"${filename}\": `;\n",
              "      div.appendChild(label);\n",
              "      const progress = document.createElement('progress');\n",
              "      progress.max = size;\n",
              "      div.appendChild(progress);\n",
              "      document.body.appendChild(div);\n",
              "\n",
              "      const buffers = [];\n",
              "      let downloaded = 0;\n",
              "\n",
              "      const channel = await google.colab.kernel.comms.open(id);\n",
              "      // Send a message to notify the kernel that we're ready.\n",
              "      channel.send({})\n",
              "\n",
              "      for await (const message of channel.messages) {\n",
              "        // Send a message to notify the kernel that we're ready.\n",
              "        channel.send({})\n",
              "        if (message.buffers) {\n",
              "          for (const buffer of message.buffers) {\n",
              "            buffers.push(buffer);\n",
              "            downloaded += buffer.byteLength;\n",
              "            progress.value = downloaded;\n",
              "          }\n",
              "        }\n",
              "      }\n",
              "      const blob = new Blob(buffers, {type: 'application/binary'});\n",
              "      const a = document.createElement('a');\n",
              "      a.href = window.URL.createObjectURL(blob);\n",
              "      a.download = filename;\n",
              "      div.appendChild(a);\n",
              "      a.click();\n",
              "      div.remove();\n",
              "    }\n",
              "  "
            ],
            "text/plain": [
              "<IPython.core.display.Javascript object>"
            ]
          },
          "metadata": {
            "tags": []
          }
        },
        {
          "output_type": "display_data",
          "data": {
            "application/javascript": [
              "download(\"download_7b7123a6-c108-4ebe-9841-46095ac8762b\", \"Elizabeth_vs_Mrs. Bennet_both.png\", 27462)"
            ],
            "text/plain": [
              "<IPython.core.display.Javascript object>"
            ]
          },
          "metadata": {
            "tags": []
          }
        },
        {
          "output_type": "display_data",
          "data": {
            "image/png": "[encoded data removed]",
            "text/plain": [
              "<Figure size 720x504 with 1 Axes>"
            ]
          },
          "metadata": {
            "tags": [],
            "needs_background": "light"
          }
        }
      ]
    },
    {
      "cell_type": "code",
      "metadata": {
        "id": "OB0sLW4_6hOz",
        "colab_type": "code",
        "cellView": "both",
        "colab": {
          "base_uri": "https://localhost:8080/",
          "height": 442
        },
        "outputId": "4710627f-2a29-4d19-b15e-1e957a25823e"
      },
      "source": [
        "#@title Plotting specific terms (example) { form-width: \"200px\" }\n",
        "\n",
        "\n",
        "# To illustrate the range of things this guy can do, I'm going to include the \n",
        "# plot for the literal words 'elizabeth' and 'lala'. Above, we used them as concept \n",
        "# names  - you'll note I didn't actually include the words themselves\n",
        "# in my concept_compiler lists.\n",
        "\n",
        "# This is a list of the literal words 'elizabeth' and 'lala'. \n",
        "# Note the difference between this and concept_list.\n",
        "# The quotation marks are important.\n",
        "# earlier, we used mrsbennet because we wanted the whole concept. Here, we use\n",
        "# 'lala' because we are only looking for the times where she was called 'lala'\n",
        "# (aka Mrs Bennet), and not the times she was called 'mamma'.\n",
        "\n",
        "literal_word_list = ['elizabeth','lala']\n",
        "\n",
        "#This time we'll just look at the kde plot\n",
        "#NOTE: strategy is 'word', here, because we are looking at simple words (not concepts)\n",
        "\n",
        "plot_word_freq(object_of_interest = literal_word_list, strategy = 'word',toplot = 'kde')\n"
      ],
      "execution_count": 149,
      "outputs": [
        {
          "output_type": "display_data",
          "data": {
            "application/javascript": [
              "\n",
              "    async function download(id, filename, size) {\n",
              "      if (!google.colab.kernel.accessAllowed) {\n",
              "        return;\n",
              "      }\n",
              "      const div = document.createElement('div');\n",
              "      const label = document.createElement('label');\n",
              "      label.textContent = `Downloading \"${filename}\": `;\n",
              "      div.appendChild(label);\n",
              "      const progress = document.createElement('progress');\n",
              "      progress.max = size;\n",
              "      div.appendChild(progress);\n",
              "      document.body.appendChild(div);\n",
              "\n",
              "      const buffers = [];\n",
              "      let downloaded = 0;\n",
              "\n",
              "      const channel = await google.colab.kernel.comms.open(id);\n",
              "      // Send a message to notify the kernel that we're ready.\n",
              "      channel.send({})\n",
              "\n",
              "      for await (const message of channel.messages) {\n",
              "        // Send a message to notify the kernel that we're ready.\n",
              "        channel.send({})\n",
              "        if (message.buffers) {\n",
              "          for (const buffer of message.buffers) {\n",
              "            buffers.push(buffer);\n",
              "            downloaded += buffer.byteLength;\n",
              "            progress.value = downloaded;\n",
              "          }\n",
              "        }\n",
              "      }\n",
              "      const blob = new Blob(buffers, {type: 'application/binary'});\n",
              "      const a = document.createElement('a');\n",
              "      a.href = window.URL.createObjectURL(blob);\n",
              "      a.download = filename;\n",
              "      div.appendChild(a);\n",
              "      a.click();\n",
              "      div.remove();\n",
              "    }\n",
              "  "
            ],
            "text/plain": [
              "<IPython.core.display.Javascript object>"
            ]
          },
          "metadata": {
            "tags": []
          }
        },
        {
          "output_type": "display_data",
          "data": {
            "application/javascript": [
              "download(\"download_3c8a111e-2361-4fa3-ab5f-44a84b15b532\", \"elizabeth_vs_lala_kde.png\", 32563)"
            ],
            "text/plain": [
              "<IPython.core.display.Javascript object>"
            ]
          },
          "metadata": {
            "tags": []
          }
        },
        {
          "output_type": "display_data",
          "data": {
            "image/png": "[encoded data removed]",
            "text/plain": [
              "<Figure size 720x504 with 1 Axes>"
            ]
          },
          "metadata": {
            "tags": [],
            "needs_background": "light"
          }
        }
      ]
    },
    {
      "cell_type": "code",
      "metadata": {
        "id": "f0FAmL_X6hO1",
        "colab_type": "code",
        "colab": {}
      },
      "source": [
        ""
      ],
      "execution_count": null,
      "outputs": []
    }
  ]
}