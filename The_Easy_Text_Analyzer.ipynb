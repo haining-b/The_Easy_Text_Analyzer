{
  "nbformat": 4,
  "nbformat_minor": 0,
  "metadata": {
    "kernelspec": {
      "display_name": "Python 3",
      "language": "python",
      "name": "python3"
    },
    "language_info": {
      "codemirror_mode": {
        "name": "ipython",
        "version": 3
      },
      "file_extension": ".py",
      "mimetype": "text/x-python",
      "name": "python",
      "nbconvert_exporter": "python",
      "pygments_lexer": "ipython3",
      "version": "3.7.4"
    },
    "colab": {
      "name": "The_Easy_Text_Analyzer.ipynb",
      "provenance": [],
      "toc_visible": true,
      "include_colab_link": true
    }
  },
  "cells": [
    {
      "cell_type": "markdown",
      "metadata": {
        "id": "view-in-github",
        "colab_type": "text"
      },
      "source": [
        "<a href=\"https://colab.research.google.com/github/haining-b/The_Easy_Text_Analyzer/blob/master/The_Easy_Text_Analyzer.ipynb\" target=\"_parent\"><img src=\"https://colab.research.google.com/assets/colab-badge.svg\" alt=\"Open In Colab\"/></a>"
      ]
    },
    {
      "cell_type": "markdown",
      "metadata": {
        "id": "meKUhdwoMm6J",
        "colab_type": "text"
      },
      "source": [
        "#Introduction to The Easy Text Analyser\n",
        "Welcome to The Easy Text Analyser: Here for all your \n",
        "thematic analysis needs.\n",
        "\n",
        " This document will walk you through the analysis of \n",
        " your text of interest, and will hopefully make\n",
        " the process of editing slightly more bearable. \n",
        "\n",
        " As you read, please pay attention to any text that \n",
        " looks like \n",
        "\n",
        " \\# this: \n",
        "\n",
        " that's a *comment* and it's here \n",
        " to make this whole thing comprehensible\n",
        " and EASY\n",
        " even if you've never touched code before in your life. \n",
        "\n",
        " If you see:\n",
        "\n",
        "\n",
        "##################################################\n",
        "############ YOUR INPUT REQUIRED HERE ##############\n",
        "##################################################\n",
        "\n",
        "\n",
        " you absolutely MUST change the lines of code that \n",
        " follow. Those lines are the ones doing a lot of \n",
        " the work, and they depend upon your specific text.\n",
        "\n",
        " I'll refer to each of these little boxes as a cell.\n",
        " To run a cell(on a Mac, anyways), press option + enter.\n",
        " You'll need to run most of the cells (but not this one).\n",
        "\n",
        " Optional cells are labeled and hidden for simplicity's\n",
        " sake. Some of the function cells are also hidden - \n",
        " that's so you don't accidently change anything.\n",
        " If you want to see the inside of a hidden cell, \n",
        " double click on the title. \n",
        "\n",
        "\n",
        " Happy editing!\n"
      ]
    },
    {
      "cell_type": "markdown",
      "metadata": {
        "id": "jFyelxbpf-aV",
        "colab_type": "text"
      },
      "source": [
        "# Modules and installations \n",
        "\n",
        "These are just some tools we're going to use later. Run the following cell as described above, but no touchy! "
      ]
    },
    {
      "cell_type": "code",
      "metadata": {
        "id": "5YNSYWIs6xuz",
        "colab_type": "code",
        "colab": {
          "base_uri": "https://localhost:8080/",
          "height": 136
        },
        "cellView": "form",
        "outputId": "10b0c315-6b19-4cc0-c807-427ceb54e0e2"
      },
      "source": [
        "#@title Modules and installations { form-width: \"200px\" }\n",
        "\n",
        "%pip install pdfkit\n",
        "nltk.download('stopwords')\n",
        "nltk.download('punkt')\n",
        "nltk.download('wordnet')\n",
        "\n",
        "%matplotlib inline\n",
        "import pandas as pd\n",
        "import seaborn as sns\n",
        "import numpy as np\n",
        "import matplotlib.pyplot as plt\n",
        "\n",
        "import nltk\n",
        "import csv\n",
        "\n",
        "from string import punctuation\n",
        "from collections import Counter\n",
        "\n",
        "from itertools import chain\n",
        "import string\n",
        "import pdfkit\n",
        "from nltk import Text,WordNetLemmatizer \n",
        "import re"
      ],
      "execution_count": 56,
      "outputs": [
        {
          "output_type": "stream",
          "text": [
            "Requirement already satisfied: pdfkit in /usr/local/lib/python3.6/dist-packages (0.6.1)\n",
            "[nltk_data] Downloading package stopwords to /root/nltk_data...\n",
            "[nltk_data]   Package stopwords is already up-to-date!\n",
            "[nltk_data] Downloading package punkt to /root/nltk_data...\n",
            "[nltk_data]   Package punkt is already up-to-date!\n",
            "[nltk_data] Downloading package wordnet to /root/nltk_data...\n",
            "[nltk_data]   Package wordnet is already up-to-date!\n"
          ],
          "name": "stdout"
        }
      ]
    },
    {
      "cell_type": "markdown",
      "metadata": {
        "id": "X9HiuTprNhuS",
        "colab_type": "text"
      },
      "source": [
        "# Stop Words\n",
        "\n",
        "'Stop words' are words that aren't interesting for analysis purposes. I don't care how often I said 'and' or 'says', for example. The following cell loads a list of English stop words. You can change the list in the next cell (e.g. adding elements for a conlang).\n",
        "\n",
        "If you're ok with the standard stop words, run the 'Loading stop words' cell alone. If you're interested in messing around with them, (like, you want to delete 'him' from the list or add 'baby'), then open up the cells Optional Stop Word Deleter and Optional Stop Word Expander, respectively. If you want to do both, follow the instructions in the Expander.\n"
      ]
    },
    {
      "cell_type": "code",
      "metadata": {
        "id": "Xvm9G6_Q6hOX",
        "colab_type": "code",
        "colab": {},
        "cellView": "form"
      },
      "source": [
        "#@title Loading stop words { form-width: \"200px\" }\n",
        "\n",
        "\n",
        "from nltk.corpus import stopwords\n",
        "stop_words = set(stopwords.words(\"english\"))\n",
        "inclusive_stop_words = stop_words"
      ],
      "execution_count": 57,
      "outputs": []
    },
    {
      "cell_type": "code",
      "metadata": {
        "id": "3meaH-Q26hOZ",
        "colab_type": "code",
        "colab": {},
        "cellView": "form"
      },
      "source": [
        "#@title Optional Stop Word Deleter { form-width: \"200px\" }\n",
        "\n",
        "####### OPTIONAL CELL #######\n",
        "# I am interested in the genderedness of my text, so I'm keeping gendered pronouns.\n",
        "# You can do this with any stop word; just insert the one you would like to keep into the\n",
        "# list 'words_to_keep'.\n",
        "# E.g. words_to_keep = ('it',\"it\\'s\",'is')\n",
        "# Note: the backslash in it\\'s is so that the computer treats the apostrophe as a character \n",
        "# and not a code thing. You MUST include the backslash when handling apostrophes or \n",
        "# you'll confuse the computer.\n",
        "# If something goes wrong here, that is probably the issue.\n",
        "\n",
        "words_to_keep = ('he','her','she','hers','herself', 'him', 'himself', 'his',\"she\\'s\")\n",
        "\n",
        "inclusive_stop_words = [i for i in stop_words if not i in words_to_keep]\n"
      ],
      "execution_count": 58,
      "outputs": []
    },
    {
      "cell_type": "code",
      "metadata": {
        "id": "vzkp98hWOqhJ",
        "colab_type": "code",
        "colab": {},
        "cellView": "form"
      },
      "source": [
        "#@title Optional Stop Word Expander { form-width: \"200px\" }\n",
        "# To ADD a stop word, simply run the following code (with the appropriate word \n",
        "# included (i.e. not 'haining')).\n",
        "\n",
        "inclusive_stop_words.append('haining')\n"
      ],
      "execution_count": 70,
      "outputs": []
    },
    {
      "cell_type": "code",
      "metadata": {
        "id": "pTIhWecs6hOb",
        "colab_type": "code",
        "colab": {},
        "cellView": "form"
      },
      "source": [
        "#@title Punctuation removal function { form-width: \"200px\" }\n",
        "# This function removes all punctuation from your text. \n",
        "# Originally found here: https://github.com/davidmcclure/textplot/blob/master/textplot/text.py\n",
        "# I do occasionally find that some weird punctuation has made its way into my text,\n",
        "# so if you are seeing an object escape consistently, copy and paste it into the long string\n",
        "# of nonsense below (what's actually happening is that you're replacing the punctuation, \n",
        "# like '.', with nothing, like ''. The marks '' just indicate what kind of thing you're \n",
        "# working with - here, it means text (as opposed to numbers, for example)).\n",
        "\n",
        "def remove_punctuation(text):\n",
        "    \"\"\"\n",
        "    Removes all punctuation and conotation from the string and returns a 'plain' string\n",
        "    \"\"\"\n",
        "    punctuation2 = '-&'+'®©™€â´‚³©¥ã¼•ž®è±äüöž!@#Â“§$%^*()î_+€$=¿{”}[]:«;\"»\\â¢|+<>,.?/~`0123456789’'\n",
        "    for sign in punctuation2:\n",
        "        text = text.replace(sign, \"\")\n",
        "    return text\n",
        "\n"
      ],
      "execution_count": 59,
      "outputs": []
    },
    {
      "cell_type": "markdown",
      "metadata": {
        "id": "Z9T4iyCHQTa4",
        "colab_type": "text"
      },
      "source": [
        "# Your file\n",
        "\n",
        "For starters, we'll be working with Jane Austen's Pride and Prejudice. The .txt file for P&P is on my github at https://github.com/haining-b/The_Easy_Text_Analyzer/blob/6ddbb85c6b6eff15b5941241408bca3f4c6f2882/pride_and_prejudice.txt. You can also download it at Project Gutenberg: https://www.gutenberg.org/files/1342/1342-0.txt. You will eventually need to edit these cells to reflect your text of interest. "
      ]
    },
    {
      "cell_type": "code",
      "metadata": {
        "id": "mbfNsNDi-qYD",
        "colab_type": "code",
        "colab": {
          "resources": {
            "http://localhost:8080/nbextensions/google.colab/files.js": {
              "data": "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",
              "ok": true,
              "headers": [
                [
                  "content-type",
                  "application/javascript"
                ]
              ],
              "status": 200,
              "status_text": ""
            }
          },
          "base_uri": "https://localhost:8080/",
          "height": 72
        },
        "cellView": "form",
        "outputId": "fe239379-606c-4248-b6db-b6f2054d3d07"
      },
      "source": [
        "#@title Upload your file { form-width: \"200px\" }\n",
        "\n",
        "# Here is where you will choose the file to upload.\n",
        "# File should be a plaintext .txt file\n",
        "\n",
        "##################################################\n",
        "############ YOUR INPUT REQUIRED HERE ############\n",
        "##################################################\n",
        "from google.colab import files\n",
        "uploaded = files.upload()"
      ],
      "execution_count": 71,
      "outputs": [
        {
          "output_type": "display_data",
          "data": {
            "text/html": [
              "\n",
              "     <input type=\"file\" id=\"files-b5326bab-36b3-419c-9b43-98ccb1d8e9d2\" name=\"files[]\" multiple disabled\n",
              "        style=\"border:none\" />\n",
              "     <output id=\"result-b5326bab-36b3-419c-9b43-98ccb1d8e9d2\">\n",
              "      Upload widget is only available when the cell has been executed in the\n",
              "      current browser session. Please rerun this cell to enable.\n",
              "      </output>\n",
              "      <script src=\"/nbextensions/google.colab/files.js\"></script> "
            ],
            "text/plain": [
              "<IPython.core.display.HTML object>"
            ]
          },
          "metadata": {
            "tags": []
          }
        },
        {
          "output_type": "stream",
          "text": [
            "Saving pride_and_prejudice.txt to pride_and_prejudice.txt\n"
          ],
          "name": "stdout"
        }
      ]
    },
    {
      "cell_type": "code",
      "metadata": {
        "id": "UfO0plLy6hOd",
        "colab_type": "code",
        "colab": {}
      },
      "source": [
        "#@title Slight modifications to your file { form-width: \"200px\" }\n",
        "\n",
        "# Get the full text of your file without punctuation\n",
        "# Replace 'pride_and_prejudice.txt' with the name of the file you uploaded above.\n",
        "\n",
        "##################################################\n",
        "############ YOUR INPUT REQUIRED HERE ############\n",
        "##################################################\n",
        "\n",
        "with open('pride_and_prejudice.txt', 'r', errors='replace') as f:\n",
        "            words = f.read()\n",
        "        \n",
        "words = remove_punctuation(words)\n",
        "\n",
        "words_subbed = words"
      ],
      "execution_count": 72,
      "outputs": []
    },
    {
      "cell_type": "markdown",
      "metadata": {
        "id": "ZvHD_-bWW1zP",
        "colab_type": "text"
      },
      "source": [
        "#Dealing with multiple definitions (optional)\n",
        "In the book I've written, I have a character whose name is Will. Because that name is also a noun and a modal verb, I need to take all the times that 'Will' occurs in the text and turn it into something else, like the made-up word 'bobo'. This change is important, as capitalization is ignored by later processing steps. That's just so we don't go around acting like 'Almost' and 'almost' are 2 different words. The following little cell is just a glorified find and replace function (like in Microsoft Word).\n",
        "\n",
        "For the purposes of illustration, I will be replacing the word 'Mrs Bennet' (remember, we just removed all punctuation) with 'lala', since later steps might separate 'Mrs' from 'Bennet'."
      ]
    },
    {
      "cell_type": "code",
      "metadata": {
        "id": "fs19nb8M6hOg",
        "colab_type": "code",
        "colab": {},
        "cellView": "form"
      },
      "source": [
        "#@title Dealing with multiple definitions (optional) { form-width: \"200px\" }\n",
        "\n",
        "####### OPTIONAL CELL #######\n",
        "\n",
        "# If you have a similar issue (a character named Hope, perhaps), just replace \"country\" with \"Hope\",\n",
        "# and all instances of \"Hope\" will become 'bobo'.\n",
        "\n",
        "# If you want to do this multiple times, delete the '#' before the second line of code, then substitute \n",
        "# the appropriate terms. If you need EVEN MORE, then copy and paste that SECOND line of code below the rest\n",
        "# and do the replacement again. If you use the first, you'll only replace one of the words you care about.\n",
        "\n",
        "##################################################\n",
        "############ YOUR INPUT REQUIRED HERE ############\n",
        "##################################################\n",
        "\n",
        "words_subbed = re.sub('Mrs Bennet','lala', words)\n",
        "\n",
        "# words_subbed = re.sub('Hope','kikii', words_subbed)"
      ],
      "execution_count": 98,
      "outputs": []
    },
    {
      "cell_type": "markdown",
      "metadata": {
        "id": "WoF-IPqBX91Z",
        "colab_type": "text"
      },
      "source": [
        "#Lemmatization\n",
        "\n",
        "In this kind of analysis, we often talk about the 'stem' of a word. For many words, this is obvious - the root of dogs is dog, of organizing is organiz, etc. Some words cannot be stemmed so easily - for example, the word 'best' is the superlative of good. Those two look 100% different. So some very smart people have developed an algorithm to *lemmatize* words. That is to say, the words are turned into their 'lemma'/ dictionary form. In the case of 'best', that is 'good'.\n",
        " We do this so that we capture appropriate units in our analysis - good and best mean pretty much the same thing, even if they are different in degree. \n",
        "\n",
        "The following cell takes your wordlist (now 'words_subbed') and lemmatizes it. \n",
        "\n",
        "NOTE: This will probably not capture all lemmatizable words in scifi novels - if you made it up, it will likely throw a bit of a wrench into the analysis. That just means that words like 'bobo' and 'boboizes' are likely going to be categorized separately.\n",
        "\n"
      ]
    },
    {
      "cell_type": "code",
      "metadata": {
        "id": "RaETDqGq6hOm",
        "colab_type": "code",
        "colab": {},
        "cellView": "form"
      },
      "source": [
        "#@title Lemmatizer { form-width: \"200px\" }\n",
        "\n",
        "\n",
        "words_tokenized = nltk.word_tokenize(words_subbed)\n",
        "\n",
        "lemmatizer = WordNetLemmatizer()\n",
        "words_l =[]\n",
        "\n",
        "\n",
        "# Lemmatizing the list\n",
        "for word in words_tokenized:\n",
        "    words_l.append(lemmatizer.lemmatize(word))\n",
        "\n",
        "# Really removing that punctuation (in case we missed anything earlier)\n",
        "words_l = [remove_punctuation(i) for i in words_l]\n",
        "\n",
        "# All words are made lowercase here: \n",
        "words_l = [i.lower() for i in words_l]\n",
        "\n",
        "\n",
        "words_lemmatized=[]\n",
        "\n",
        "# Getting rid of words that are just \"\" as a result of removing punctuation.\n",
        "for string in words_l:\n",
        "    if (string != \"\"):\n",
        "        words_lemmatized.append(string)\n",
        "\n",
        "        \n",
        "\n",
        "# Removing the stop_words list we made earlier. \n",
        "words_lemmatized = [i for i in words_lemmatized if not i in inclusive_stop_words]\n",
        "\n",
        "\n",
        "words_lemmatized = np.asarray(words_lemmatized)\n"
      ],
      "execution_count": 99,
      "outputs": []
    },
    {
      "cell_type": "markdown",
      "metadata": {
        "id": "1Rq7G3t0Yn-j",
        "colab_type": "text"
      },
      "source": [
        "#Mapping the text\n",
        "\n",
        "To plot word frequency over narrative time, we need to find all the points at which you've used a particular word. The following cell makes a list of all the unique words in your lemmatized document and then finds all the places they were used in the text. "
      ]
    },
    {
      "cell_type": "code",
      "metadata": {
        "id": "mi4ZEGhu6hOo",
        "colab_type": "code",
        "colab": {},
        "cellView": "form"
      },
      "source": [
        "#@title Making the instance dictionary { form-width: \"200px\" }\n",
        "\n",
        "# Here we are making a 'dictionary'. \n",
        "# This will take longer depending on the size of your text doc and the breadth of \n",
        "# the used vocabulary.\n",
        "\n",
        "# The point: we're going to keep track of every time those words appeared in the text.\n",
        "# So we can type the word 'kid' into location_dictionary.get('kid') and see a complete list of kid \n",
        "# occurences. The values are 'position from the start'. \n",
        "# So in this sentence, the word 'the' has values of 5 and 7.\n",
        "\n",
        "word_set = list(set(words_lemmatized))\n",
        "\n",
        "location_dictionary = {}\n",
        "for i in range(0,len(word_set)):\n",
        "    key = word_set[i]\n",
        "    indices = np.flatnonzero(words_lemmatized == key)\n",
        "    location_dictionary.update( {key : indices} )\n",
        "   "
      ],
      "execution_count": 101,
      "outputs": []
    },
    {
      "cell_type": "markdown",
      "metadata": {
        "id": "7DyIEWDWZJci",
        "colab_type": "text"
      },
      "source": [
        "#Concept Compilation\n",
        " Okay, this one is SO USEFUL and actually what motivated me to do this in the first place. If you have a theme that can be represented by more than one word, what to do???? You could use this code to plot all of the terms at once, but that'll get clunky, fast. \n",
        " \n",
        " So I give you the concept_compiler.\n",
        " \n",
        " \n",
        " This function takes a list of all the words you want to smoosh together into a concept and makes new 'terms'.\n",
        "\n",
        " The exciting thing about this is that it helps with editing big chunks of text. I wrote a book, then deleted the first quarter.... which is where many themes are introduced. In rewriting, I need to make sure the text has the right 'rhythm' - like, do I somehow go 200 pages before introducing a theme? Does this character appear frequently enough for people to remember and care about them? Some of that is squishier, certainly (like, they will definitely remember a person who commits a horrific murder and then vanishes for the rest of the book), but a picture never hurts!\n",
        "\n",
        "In this case, I am going to combine nicknames for characters. Elizabeth is also known as Lizzy or Eliza. Mrs. Bennet is known as 'Mrs. Bennet' (now 'lala', after we changed it in the multiple definitions step) and 'Mamma'. While there is certainly literary content inherent in a nickname, sometimes you just want to know when a person shows up."
      ]
    },
    {
      "cell_type": "code",
      "metadata": {
        "id": "DEOxbLGb6hOq",
        "colab_type": "code",
        "colab": {},
        "cellView": "form"
      },
      "source": [
        "#@title Concept Compiler (function) { form-width: \"200px\" }\n",
        "\n",
        "def concept_compiler(terms):\n",
        "    total_placement = []\n",
        "    for i in terms:\n",
        "        values = location_dictionary.get(i)\n",
        "        values = values.tolist()\n",
        "        total_placement.extend(values)\n",
        "    return(total_placement)\n",
        "        "
      ],
      "execution_count": 102,
      "outputs": []
    },
    {
      "cell_type": "code",
      "metadata": {
        "id": "-0ZqJJCK6hOs",
        "colab_type": "code",
        "colab": {},
        "cellView": "both"
      },
      "source": [
        "#@title  Concept Compiler Example { form-width: \"200px\" }\n",
        "\n",
        "####### OPTIONAL CELL #######\n",
        "# Remember! Keep your words lowercase, otherwise you won't find anything.\n",
        "# If there is an error, it's because the words you put in don't actually occur.\n",
        "# For example, Austen never uses the spelling 'mama'.\n",
        "\n",
        "# If I wanted to do a concept like 'purple', I would delete the two lines of code \n",
        "# below and type:\n",
        "# purple = concept_compiler(['purple','violet','lavendar','lilac','plum'])\n",
        "\n",
        "##################################################\n",
        "############ YOUR INPUT REQUIRED HERE ############\n",
        "##################################################\n",
        "\n",
        "elizabeth = concept_compiler(['elizabeth','eliza','lizzy'])\n",
        "mrsbennet = concept_compiler(['mamma','lala'])\n",
        "\n",
        "# This is just for labeling in the graph below.\n",
        "# You'll want to change boy/girl to whatever you decided to call your concept\n",
        "# For 'purple', the code is: purple.append('purple')\n",
        "\n",
        "elizabeth.append('Elizabeth')\n",
        "mrsbennet.append('Mrs. Bennet')\n"
      ],
      "execution_count": 109,
      "outputs": []
    },
    {
      "cell_type": "markdown",
      "metadata": {
        "id": "z19hRt6-d4Uf",
        "colab_type": "text"
      },
      "source": [
        "# Graphing our work\n",
        "\n",
        "We're at the end! Now is the time to graph your work! Below, I show you several ways to plot the data. \n",
        "\n",
        "In both examples, you are essentially running the line of code:\n",
        "plot_word_freq(object_of_interest, strategy ,toplot)\n",
        "\n",
        "\n",
        "object_of_interest is whatever you want to plot - a single word, a list of real words, a list of concepts.\n",
        "\n",
        "strategy is the type of thing you gave in object_of_interest. It can be 'concept' or 'word'.\n",
        "toplot is the type of plot you get out. There are a couple of options - a histogram or a line plot, or both! You can read more about them in the example cells below.\n",
        "\n",
        "The pictures show the output, but you can doubleclick on the titles just like earlier to access the information and code inside.\n",
        "\n",
        "\n",
        "\n"
      ]
    },
    {
      "cell_type": "code",
      "metadata": {
        "id": "u7C0N-BU6hOv",
        "colab_type": "code",
        "colab": {},
        "cellView": "form"
      },
      "source": [
        "#@title The graphing function (no touchy, just run) { form-width: \"200px\" }\n",
        "\n",
        "# This bad boy makes the plots. I don't recommend messing around with it.\n",
        "\n",
        "def plot_word_freq(object_of_interest = word, strategy = 'word', toplot = 'both'):\n",
        "    \n",
        "    fig, ax = plt.subplots()\n",
        "    b = 50\n",
        "    toplot = toplot.lower()\n",
        "\n",
        "    if toplot == 'hist':\n",
        "        ylab = \"Frequency\"\n",
        "        h = True\n",
        "        k = False\n",
        "        \n",
        "    elif toplot == 'kde' :\n",
        "        ylab = 'KDE'\n",
        "        k = True\n",
        "        h = False\n",
        "    else:\n",
        "        ylab = 'KDE'\n",
        "        h = True\n",
        "        k = True\n",
        "            \n",
        "\n",
        "    if  strategy == 'concept':\n",
        "        for concept in object_of_interest:\n",
        "            var_name = concept[-1]\n",
        "            conc = concept[:]\n",
        "            del conc[-1]\n",
        "            \n",
        "            \n",
        "       \n",
        "            trans_values = [(int(i)/len(words_lemmatized))*100 for i in conc]\n",
        "            \n",
        "            if int(round(len(trans_values)/2)) > 50 and b < 50:\n",
        "                b = int(round(len(trans_values)/2))\n",
        "\n",
        "            sns.distplot(trans_values, ax = ax, bins = b, label = var_name, hist = h, kde = k )\n",
        "            ax.set(xlabel = 'Narrative Space/Time', ylabel = ylab)\n",
        "            plt.legend()\n",
        "\n",
        "    if strategy == 'word':\n",
        "        if type(object_of_interest) == list:\n",
        "            for x in object_of_interest:\n",
        "                values = location_dictionary.get(x)\n",
        "                values = values.tolist()\n",
        "                trans_values = [(i/len(words_lemmatized))*100 for i in values]\n",
        "                if int(round(len(values)/2)) > 50 and b < 50:\n",
        "                    b = int(round(len(values)/2))\n",
        "\n",
        "                sns.distplot(trans_values, ax = ax, bins = b, label = str(x), hist = h,kde = k )\n",
        "\n",
        "                ax.set(xlabel = 'Narrative Space/Time', ylabel = ylab)\n",
        "                plt.legend()\n",
        "        else:\n",
        "\n",
        "            values = location_dictionary.get(object_of_interest)\n",
        "            values = values.tolist()\n",
        "            trans_values = [(i/len(words_lemmatized))*100 for i in values]\n",
        "            if int(round(len(values)/2)) > 50 and b < 50:\n",
        "                b = int(round(len(values)/2))\n",
        "\n",
        "            sns.distplot(trans_values, ax = ax, bins = b, label = str(object_of_interest), hist = h, kde = k )\n",
        "\n",
        "            ax.set(xlabel = 'Narrative Space/Time', ylabel = ylab)\n",
        "            plt.legend()\n",
        "    ax.set_xlim(0,100)\n",
        "   \n",
        "    plt.show()"
      ],
      "execution_count": 67,
      "outputs": []
    },
    {
      "cell_type": "code",
      "metadata": {
        "id": "LRH7cStj6hOy",
        "colab_type": "code",
        "colab": {
          "base_uri": "https://localhost:8080/",
          "height": 281
        },
        "cellView": "form",
        "outputId": "53524484-6249-4eb6-b8d5-8bff26345134"
      },
      "source": [
        "#@title Plotting concepts (example) { form-width: \"200px\" }\n",
        "\n",
        "# Here's the plot maker in action:\n",
        "\n",
        "# First, I make a list of the concepts I made above:\n",
        "\n",
        "##################################################\n",
        "############ YOUR INPUT REQUIRED HERE ############\n",
        "##################################################\n",
        "\n",
        "concept_list = [elizabeth, mrsbennet]\n",
        "\n",
        "# This next line does the plotting:\n",
        "# object_of_interest is whatever you want to plot - a single word, a list of real words, a list of concepts.\n",
        "# Here it's a list of concepts.\n",
        "# strategy is the type of thing you gave in object_of_interest. It can be 'concept' or 'word'.\n",
        "# toplot is the type of plot you get out. The default is 'both'; \n",
        "# this gives you a smoothed line plot(that might miss single occurences) \n",
        "# as well as a standard histogram - that includes all occurences.\n",
        "# To just look at the line, say toplot = 'kde'. For just the hist, say toplot = 'hist'. \n",
        "\n",
        "##################################################\n",
        "############ YOUR INPUT REQUIRED HERE ############\n",
        "##################################################\n",
        "\n",
        "plot_word_freq(object_of_interest = concept_list, strategy = 'concept',toplot = 'both')\n",
        "\n"
      ],
      "execution_count": 110,
      "outputs": [
        {
          "output_type": "display_data",
          "data": {
            "image/png": "[encoded data removed]",
            "text/plain": [
              "<Figure size 432x288 with 1 Axes>"
            ]
          },
          "metadata": {
            "tags": [],
            "needs_background": "light"
          }
        }
      ]
    },
    {
      "cell_type": "code",
      "metadata": {
        "id": "OB0sLW4_6hOz",
        "colab_type": "code",
        "colab": {
          "base_uri": "https://localhost:8080/",
          "height": 279
        },
        "cellView": "form",
        "outputId": "6ba511ca-8e08-4627-a5d7-ccb26aae50db"
      },
      "source": [
        "#@title Plotting specific terms (example) { form-width: \"200px\" }\n",
        "\n",
        "\n",
        "# To illustrate the range of things this guy can do, I'm going to include the \n",
        "# plot for the literal words 'boy'and 'girl'. Above, we used them as concept \n",
        "# names  - you'll note I didn't actually include the words themselves\n",
        "# in my concept_compiler lists.\n",
        "\n",
        "# This is a list of the literal words 'boy' and 'girl'. \n",
        "# Note the difference between this and concept_list.\n",
        "# The quotation marks are important.\n",
        "# earlier, we used mrsbennet because we wanted the whole concept. Here, we use\n",
        "# 'lala' because we are only looking for the times where she was called 'lala'\n",
        "# (aka Mrs Bennet), and not the times she was called 'mamma'.\n",
        "\n",
        "literal_word_list = ['elizabeth','lala']\n",
        "\n",
        "#This time we'll just look at the kde plot\n",
        "#NOTE: strategy is 'word', here, because we are looking at simple words (not concepts)\n",
        "\n",
        "plot_word_freq(object_of_interest = literal_word_list, strategy = 'word',toplot = 'kde')\n"
      ],
      "execution_count": 108,
      "outputs": [
        {
          "output_type": "display_data",
          "data": {
            "image/png": "[encoded data removed]",
            "text/plain": [
              "<Figure size 432x288 with 1 Axes>"
            ]
          },
          "metadata": {
            "tags": [],
            "needs_background": "light"
          }
        }
      ]
    },
    {
      "cell_type": "code",
      "metadata": {
        "id": "f0FAmL_X6hO1",
        "colab_type": "code",
        "colab": {}
      },
      "source": [
        ""
      ],
      "execution_count": null,
      "outputs": []
    }
  ]
}